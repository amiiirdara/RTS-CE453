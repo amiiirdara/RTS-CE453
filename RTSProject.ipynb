{
 "cells": [
  {
   "cell_type": "markdown",
   "metadata": {
    "id": "8dzZaFi8TTpg"
   },
   "source": [
    "# **Real-Time Systems Project**\n",
    "\n",
    "### Amir Mahdi Daraei 99105431\n",
    "\n",
    "### Amirreza Abootalebi 99105197"
   ]
  },
  {
   "cell_type": "markdown",
   "metadata": {
    "id": "HkyAGof-Wxec"
   },
   "source": [
    "# Project Documentation\n",
    "\n",
    "#### Group No. 22 -- Project No. 9\n",
    "\n",
    "#### Course: Real-Time Systems\n",
    "#### Teaching Assistant: Mrs. Maleki\n",
    "#### Title: Scheduling and Mapping Critical Mixed Tasks in Mixed-Criticality Systems\n",
    "\n",
    "---"
   ]
  },
  {
   "cell_type": "markdown",
   "metadata": {
    "id": "IE89ZMUcXYwA"
   },
   "source": [
    "### Introduction\n",
    "In a modern car, various units like the engine control unit (high criticality level) and the infotainment system (low criticality level) coexist. These systems must operate simultaneously and in harmony, ensuring the execution of their critical tasks. In this project, a two-level mixed-criticality system with periodic LC and HC tasks is designed. LC tasks have one worst-case execution time, while HC tasks have two worst-case execution times. The system starts in the normal mode and transitions to the overrun mode if any HC task exceeds its small execution time without completion."
   ]
  },
  {
   "cell_type": "markdown",
   "metadata": {
    "id": "312mG7GjXb4G"
   },
   "source": [
    "### Project Goals\n",
    "- Implement task mapping algorithms based on resource overload and core utilization.\n",
    "- Evaluate and compare the proposed mapping algorithms with WFD.\n",
    "- Present results as schedulability and mapping capability charts.\n"
   ]
  },
  {
   "cell_type": "markdown",
   "metadata": {
    "id": "ipx9qiB8bwqA"
   },
   "source": [
    "### **Part 0: Imports**"
   ]
  },
  {
   "cell_type": "code",
   "execution_count": 6,
   "metadata": {
    "ExecuteTime": {
     "end_time": "2024-06-27T15:37:50.482187Z",
     "start_time": "2024-06-27T15:37:50.480141Z"
    },
    "execution": {
     "iopub.execute_input": "2024-06-28T07:56:04.699377Z",
     "iopub.status.busy": "2024-06-28T07:56:04.698842Z",
     "iopub.status.idle": "2024-06-28T07:56:04.711433Z",
     "shell.execute_reply": "2024-06-28T07:56:04.709627Z",
     "shell.execute_reply.started": "2024-06-28T07:56:04.699341Z"
    },
    "id": "UfoyisNjbyPS"
   },
   "outputs": [],
   "source": [
    "import random\n",
    "from tqdm import tqdm\n",
    "import matplotlib.pyplot as plt\n",
    "import numpy as np"
   ]
  },
  {
   "cell_type": "markdown",
   "metadata": {
    "id": "lflSz8jEXJix"
   },
   "source": [
    "### **Part 1: Base Models Implementation**\n"
   ]
  },
  {
   "cell_type": "markdown",
   "metadata": {
    "id": "geqtNM2EXTqQ"
   },
   "source": [
    "#### Task Class\n",
    "The Task class represents a task.\n"
   ]
  },
  {
   "cell_type": "code",
   "execution_count": 1,
   "metadata": {
    "ExecuteTime": {
     "end_time": "2024-06-27T15:37:52.101815Z",
     "start_time": "2024-06-27T15:37:52.096844Z"
    },
    "id": "G0soEQrBTSGT"
   },
   "outputs": [],
   "source": [
    "class Task:\n",
    "    \"\"\"\n",
    "    A class representing a task with attributes:\n",
    "    \n",
    "        id (int): Identifier for the task.\n",
    "        exec_time_lc (float): Execution time for low criticality mode.\n",
    "        exec_time_hc (list of float): Execution times for high criticality mode (two values).\n",
    "        deadline (float): Deadline for the task.\n",
    "        period (float): Period of the task.\n",
    "        criticality (str): Criticality level ('LC' or 'HC').\n",
    "        preemption_level (int): Preemption level of the task.\n",
    "        remaining_time (float): Remaining execution time for the task.\n",
    "        utilization (float): Utilization of the task.\n",
    "        resources (Dict of Resource to (critical_section_time, start_of_critical_section))\n",
    "    \"\"\"\n",
    "\n",
    "    def __init__(self, id, exec_time_lc, exec_time_hc, deadline, period, criticality, utilization, resources):\n",
    "        self.id = id\n",
    "        self.exec_time_lc = round(exec_time_lc, 2)\n",
    "        self.exec_time_hc = [round(exec_time, 2) for exec_time in exec_time_hc]\n",
    "        self.deadline = round(deadline, 2)\n",
    "        self.period = period\n",
    "        self.criticality = criticality\n",
    "        self.preemption_level = None  #TODO: set preemption level according to the SRP protocol (done)\n",
    "        self.remaining_time = exec_time_lc if criticality == 'LC' else exec_time_hc[0]\n",
    "        self.utilization = utilization\n",
    "        self.resources = resources\n",
    "\n",
    "    def __lt__(self, other):\n",
    "        return self.deadline < other.deadline\n",
    "\n",
    "    def update_remaining_time(self, exec_time):\n",
    "        \"\"\"\n",
    "        Updates the remaining execution time for the task.\n",
    "\n",
    "        Args:\n",
    "            exec_time (float): New remaining execution time.\n",
    "        \"\"\"\n",
    "        self.remaining_time = round(exec_time, 2)"
   ]
  },
  {
   "cell_type": "markdown",
   "metadata": {},
   "source": [
    "#### Virtual Deadlines\n",
    "Set virtual deadlines of tasks according to the EDF-VD algorithm. "
   ]
  },
  {
   "cell_type": "code",
   "execution_count": 2,
   "metadata": {},
   "outputs": [],
   "source": [
    "\n",
    "def set_virtual_deadlines(tasks):\n",
    "    \"\"\"\n",
    "    Set virtual deadline of tasks according to the EDF-VD algorithm.\n",
    "\n",
    "    T' = xT : x = U[Lo_Hi] / (1 - U[Lo_Lo])\n",
    "\n",
    "    Args:\n",
    "        tasks (list of Tasks): List of tasks.\n",
    "    \"\"\"\n",
    "    U_Lo_Hi = sum(task.exec_time_hc[0] / task.period for task in tasks if task.criticality == 'HC')\n",
    "    U_Lo_Lo = sum(task.exec_time_lc / task.period for task in tasks if task.criticality == 'LC')\n",
    "    x = U_Lo_Hi / (1 - U_Lo_Lo)\n",
    "    for task in tasks:\n",
    "        if task.criticality == 'HC':\n",
    "            task.deadline = round(x * task.deadline, 2)\n",
    "    return tasks"
   ]
  },
  {
   "cell_type": "markdown",
   "metadata": {
    "id": "OsBv44pa9l_8"
   },
   "source": [
    "#### Resource Class\n",
    "The Resource Class represents the resources in the system"
   ]
  },
  {
   "cell_type": "code",
   "execution_count": 8,
   "metadata": {
    "ExecuteTime": {
     "end_time": "2024-06-27T15:37:58.815259Z",
     "start_time": "2024-06-27T15:37:58.811884Z"
    },
    "execution": {
     "iopub.execute_input": "2024-06-28T07:56:04.733610Z",
     "iopub.status.busy": "2024-06-28T07:56:04.733169Z",
     "iopub.status.idle": "2024-06-28T07:56:04.744362Z",
     "shell.execute_reply": "2024-06-28T07:56:04.743324Z",
     "shell.execute_reply.started": "2024-06-28T07:56:04.733567Z"
    },
    "id": "QbqMbIgRsg7_"
   },
   "outputs": [],
   "source": [
    "class Resource:\n",
    "    \"\"\"\n",
    "    A class representing a resource with attributes:\n",
    "\n",
    "        id (int): Identifier for the resource.\n",
    "        available (bool): The status of availability of the specified resource.\n",
    "        task (Task): Task which using the resource.\n",
    "    \"\"\"\n",
    "    \n",
    "    resources = []\n",
    "\n",
    "    def __init__(self, id):\n",
    "        self.id = id\n",
    "        self.available = True\n",
    "        self.task = None\n",
    "\n",
    "    def get_available(self):\n",
    "        \"\"\"\n",
    "        Returns the status of availability of the specified resource.\n",
    "\n",
    "        Returns:\n",
    "            bool: Is available.\n",
    "        \"\"\"\n",
    "\n",
    "        return self.available\n",
    "\n",
    "    def consume(self, task):\n",
    "        \"\"\"\n",
    "        Consumes a specified resource.\n",
    "        \"\"\"\n",
    "        self.available = False\n",
    "        self.task = task\n",
    "\n",
    "    def release(self):\n",
    "        \"\"\"\n",
    "        Releases a specified resource.\n",
    "        \"\"\"\n",
    "        self.available = True\n",
    "        self.task = None\n",
    "\n",
    "    @staticmethod\n",
    "    def get_resource(id):\n",
    "        for resource in Resource.resources:\n",
    "            if resource.id == id:\n",
    "                return resource\n",
    "        return None"
   ]
  },
  {
   "cell_type": "markdown",
   "metadata": {
    "id": "m6LCqeIjEj3A"
   },
   "source": [
    "#### Generate Resources\n",
    "The function generates n type of resources."
   ]
  },
  {
   "cell_type": "code",
   "execution_count": 9,
   "metadata": {
    "ExecuteTime": {
     "end_time": "2024-06-27T15:37:59.732627Z",
     "start_time": "2024-06-27T15:37:59.729883Z"
    },
    "execution": {
     "iopub.execute_input": "2024-06-28T07:56:04.747092Z",
     "iopub.status.busy": "2024-06-28T07:56:04.746730Z",
     "iopub.status.idle": "2024-06-28T07:56:04.756688Z",
     "shell.execute_reply": "2024-06-28T07:56:04.755076Z",
     "shell.execute_reply.started": "2024-06-28T07:56:04.747061Z"
    },
    "id": "i8Exh78rFEh0"
   },
   "outputs": [],
   "source": [
    "def generate_resources(low_bound, high_bound):\n",
    "    \"\"\"\n",
    "    Generates a list of resources.\n",
    "\n",
    "    Args:\n",
    "        low_bound (int): low bound of Number resources.\n",
    "        high_bound (int): high bound of Number resources.\n",
    "\n",
    "    Returns:\n",
    "        list of Resource: Generated list of resources.\n",
    "    \"\"\"\n",
    "    resources = []\n",
    "    for i in range(random.randint(low_bound, high_bound)):\n",
    "        resources.append(Resource(id=i + 1))\n",
    "    Resource.resources = resources\n",
    "    return resources"
   ]
  },
  {
   "cell_type": "markdown",
   "metadata": {},
   "source": [
    "#### Core Class\n",
    "The Core class represents a processing core."
   ]
  },
  {
   "cell_type": "code",
   "execution_count": 10,
   "metadata": {
    "ExecuteTime": {
     "end_time": "2024-06-27T15:38:00.620186Z",
     "start_time": "2024-06-27T15:38:00.610249Z"
    },
    "execution": {
     "iopub.execute_input": "2024-06-28T07:56:04.807615Z",
     "iopub.status.busy": "2024-06-28T07:56:04.806921Z",
     "iopub.status.idle": "2024-06-28T07:56:04.838966Z",
     "shell.execute_reply": "2024-06-28T07:56:04.837710Z",
     "shell.execute_reply.started": "2024-06-28T07:56:04.807581Z"
    }
   },
   "outputs": [],
   "source": [
    "class Core:\n",
    "    \"\"\"\n",
    "    A class representing a processing core with attributes: \n",
    "        id (int): Identifier for the core.\n",
    "        utilization (float): Current utilization of the core.\n",
    "        tasks (list of Task): List of tasks assigned to the core.\n",
    "        current_task (Task): The currently executing task.\n",
    "        resources_overload (dict): Dictionary tracking resource overload.\n",
    "        resources_ceiling_table (dict): Dictionary tracking resource ceiling table.,\n",
    "        is_on_busy_waiting (bool): Whether the core is on busy waiting state.\n",
    "    \"\"\"\n",
    "    \n",
    "    cores = []\n",
    "\n",
    "    def __init__(self, id, resources):\n",
    "        self.id = id\n",
    "        self.utilization = 0\n",
    "        self.tasks = []\n",
    "        self.current_task = None\n",
    "        self.resources_overload = {resource.id: 0 for resource in resources}\n",
    "        self.resources_ceiling_table = {}\n",
    "        self.is_on_busy_waiting = False\n",
    "        Core.cores.append(self)\n",
    "\n",
    "    \n",
    "    def add_task(self, task):\n",
    "        \"\"\"\n",
    "        Adds a task to the core and updates the core's utilization.\n",
    "\n",
    "        Args:\n",
    "            task (Task): The task to add to the core.\n",
    "        \"\"\"\n",
    "        self.tasks.append(task)\n",
    "        self.utilization += task.utilization\n",
    "        self._update_resources_overload(task)\n",
    "        \n",
    "\n",
    "    def _update_resources_overload(self, task):\n",
    "        \"\"\"\n",
    "        Updates the resource overload based on the task's resource requirements.\n",
    "\n",
    "        Args:\n",
    "            task (Task): The task to use for updating resource overload.\n",
    "        \"\"\"\n",
    "        for resource_id, (critical_section_time, _) in task.resources.items():\n",
    "            self.resources_overload[resource_id] += critical_section_time / task.period\n",
    "            \n",
    "\n",
    "    def calculate_resource_ceiling(self, resources):\n",
    "        \"\"\"\n",
    "        Calculates the resource ceiling table for the specified core and resources.\n",
    "    \n",
    "        Args:\n",
    "            resources (list of Resource): List of resources.\n",
    "        \"\"\"\n",
    "        # resource_ceiling_table = Ri -> (CRi(0), CRi(1)) \n",
    "        resources_ceiling_table = {resource.id: (0, 0) for resource in resources}\n",
    "\n",
    "        for resource in resources:\n",
    "            resource_id = resource.id\n",
    "            max_preemption_level = 0\n",
    "            for task in self.tasks:\n",
    "                if resource_id in task.resources.keys():\n",
    "                    max_preemption_level = max(max_preemption_level, task.preemption_level)\n",
    "            resources_ceiling_table[resource_id] = (max_preemption_level, 0)\n",
    "        self.resources_ceiling_table = resources_ceiling_table\n",
    "\n",
    "        \n",
    "    def get_system_ceiling(self, resources):\n",
    "        \"\"\"\n",
    "        Gets the current system ceiling based on the available resources.\n",
    "    \n",
    "        Args:\n",
    "            resources (list of Resource): List of resources.\n",
    "    \n",
    "        Returns:\n",
    "            int: The current system ceiling.\n",
    "        \"\"\"\n",
    "        system_ceilings = 0\n",
    "        for resource in resources:\n",
    "            if not resource.get_available():\n",
    "                system_ceilings = max(system_ceilings, self.resources_ceiling_table[resource.id][0])\n",
    "        return system_ceilings\n",
    "        \n",
    "\n",
    "    def next_task(self, resources):\n",
    "        \"\"\"\n",
    "        Selects the next task to execute based on EDF-VD and system ceiling.\n",
    "        \n",
    "        Args:\n",
    "            resources (list of Resource): List of resources.\n",
    "            is_overrun (bool): Whether the task is overrun or not.\n",
    "        \n",
    "        Returns:\n",
    "            Task: The next task to execute, or None if no valid task is found.\n",
    "        \"\"\"\n",
    "        next_task = None\n",
    "        if self.is_on_busy_waiting:\n",
    "            return next_task\n",
    "\n",
    "        sorted_tasks = sorted(\n",
    "            [task for task in self.tasks if task.remaining_time > 0],\n",
    "            key=lambda task: task.deadline, reverse=True\n",
    "        )\n",
    "        edf_vd_suggested_task = None\n",
    "        if sorted_tasks:\n",
    "            edf_vd_suggested_task = sorted_tasks[0]\n",
    "        if edf_vd_suggested_task:\n",
    "            can_preempt = edf_vd_suggested_task.preemption_level > self.get_system_ceiling(resources=resources)\n",
    "            if can_preempt:\n",
    "                next_task = edf_vd_suggested_task\n",
    "        return next_task\n",
    "        \n",
    "\n",
    "    def check_for_consume(self) -> (Resource, bool):\n",
    "        \"\"\"\n",
    "        Checks all conditions before consuming a resource by the core at the start of critical section\n",
    "        \n",
    "        Returns:\n",
    "            (Resource, bool): tuple of the resource and a boolean variable indicating whether a busy waiting has occurred\n",
    "        \"\"\"\n",
    "        if self.current_task:\n",
    "            for resource_id, (critical_section_time, start_of_critical_section) in self.current_task.resources.items():\n",
    "                if self.current_task.exec_time_lc - self.current_task.remaining_time == start_of_critical_section:\n",
    "                    resource = Resource.get_resource(resource_id)\n",
    "                    if resource.get_available():\n",
    "                        return resource, False\n",
    "                    return resource, True\n",
    "        return None, False\n",
    "        \n",
    "\n",
    "    def check_for_release(self):\n",
    "        \"\"\"\n",
    "        Checks all conditions before releasing a resource by the core at the end of critical section\n",
    "        \n",
    "        Returns:\n",
    "            Resource: the resource \n",
    "        \"\"\"\n",
    "        if self.current_task:\n",
    "            for resource_id, (critical_section_time, start_of_critical_section) in self.current_task.resources.items():\n",
    "                if self.current_task.exec_time_lc - self.current_task.remaining_time == start_of_critical_section + critical_section_time:\n",
    "                    resource = Resource.get_resource(resource_id)\n",
    "                    return resource\n",
    "        return None\n",
    "        \n",
    "\n",
    "    def schedule_task(self, task, time, step):\n",
    "        \"\"\"\n",
    "        Tries to schedule the task on this core at the time\n",
    "    \n",
    "        Args:\n",
    "            task (Task): The task.\n",
    "            time (float): The time of this moment.\n",
    "            step (float): The timing scale that indicates the smallest unit of time in the system.\n",
    "        \n",
    "        Returns:\n",
    "            bool: Did everything go well with the schedule?\n",
    "        \"\"\"\n",
    "        if not task and not self.current_task:\n",
    "            return True\n",
    "\n",
    "        # Check current task is completed\n",
    "        if self.current_task and not self.current_task.remaining_time > 0:\n",
    "            self.current_task = None\n",
    "\n",
    "        # Check deadline of task is missed or not \n",
    "        if self.current_task and self.current_task.remaining_time > 0:\n",
    "            if round(time % self.current_task.period, 2) >= self.current_task.deadline:\n",
    "                return False\n",
    "\n",
    "        # core is idle\n",
    "        if not self.current_task:\n",
    "            self.current_task = task\n",
    "            resource, is_busy_waiting_occurred = self.check_for_consume()\n",
    "            if resource:\n",
    "                if not is_busy_waiting_occurred:\n",
    "                    resource.consume(task=task)\n",
    "                    self.current_task.remaining_time -= step\n",
    "                else:\n",
    "                    pass\n",
    "            else:\n",
    "                self.current_task.remaining_time -= step\n",
    "\n",
    "        # next task preempts the current task\n",
    "        # self.current_task is not equal to next _task\n",
    "        elif self.current_task is not task:\n",
    "            if task:\n",
    "                self.current_task = task\n",
    "            resource, is_busy_waiting_occurred = self.check_for_consume()\n",
    "            if resource:\n",
    "                if not is_busy_waiting_occurred:\n",
    "                    resource.consume(task=self.current_task)\n",
    "                    self.current_task.remaining_time -= step\n",
    "                else:\n",
    "                    pass\n",
    "            else:\n",
    "                self.current_task.remaining_time -= step\n",
    "\n",
    "\n",
    "        # The same task as before remains running\n",
    "        # self.current_task is equal to task\n",
    "        else:\n",
    "            resource, is_busy_waiting_occurred = self.check_for_consume()\n",
    "            if resource:\n",
    "                if not is_busy_waiting_occurred:\n",
    "                    resource.consume(task=self.current_task)\n",
    "                    self.current_task.remaining_time -= step\n",
    "                else:\n",
    "                    self.is_on_busy_waiting = True\n",
    "                    for core in Core.cores:\n",
    "                        if resource.task in core.tasks:\n",
    "                            core.is_on_busy_waiting = True\n",
    "            else:\n",
    "                self.current_task.remaining_time -= 1\n",
    "\n",
    "        return True"
   ]
  },
  {
   "cell_type": "markdown",
   "metadata": {},
   "source": [
    "#### Generate Cores\n",
    "The function generates n cores."
   ]
  },
  {
   "cell_type": "code",
   "execution_count": 11,
   "metadata": {
    "ExecuteTime": {
     "end_time": "2024-06-27T15:38:01.440845Z",
     "start_time": "2024-06-27T15:38:01.438150Z"
    },
    "execution": {
     "iopub.execute_input": "2024-06-28T07:56:04.842643Z",
     "iopub.status.busy": "2024-06-28T07:56:04.841580Z",
     "iopub.status.idle": "2024-06-28T07:56:04.853523Z",
     "shell.execute_reply": "2024-06-28T07:56:04.852406Z",
     "shell.execute_reply.started": "2024-06-28T07:56:04.842598Z"
    }
   },
   "outputs": [],
   "source": [
    "def generate_cores(num_cores, resources):\n",
    "    \"\"\"\n",
    "    Generates a list of cores.\n",
    "\n",
    "    Args:\n",
    "        num_cores (int): Number of cores.\n",
    "\n",
    "    Returns:\n",
    "        list of cores: Generated list of cores.\n",
    "    \"\"\"\n",
    "    cores = []\n",
    "    for i in range(num_cores):\n",
    "        cores.append(Core(id=i + 1, resources=resources))\n",
    "    return cores"
   ]
  },
  {
   "cell_type": "markdown",
   "metadata": {},
   "source": [
    "#### Preemption Levels\n",
    "Set preemption levels of tasks of the cores in both overrun and normal modes via SRP."
   ]
  },
  {
   "cell_type": "code",
   "execution_count": 3,
   "metadata": {},
   "outputs": [],
   "source": [
    "def set_preemption_levels(cores, is_overrun=False):\n",
    "    \"\"\"\n",
    "    Set preemption level of tasks according to the SRP protocol in both overrun and normal modes of system.\n",
    "\n",
    "    Args:\n",
    "        cores (list of Core): List of cores.\n",
    "        is_overrun (bool): Whether the system is overrun.\n",
    "        \n",
    "    Returns:\n",
    "        list of Core: List of cores.\n",
    "    \"\"\"\n",
    "    if is_overrun:\n",
    "        for core in cores:\n",
    "            tasks = sorted(\n",
    "                [task for task in core.tasks if task.criticality == 'HC'],\n",
    "                key=lambda task: task.period, reverse=True\n",
    "            )\n",
    "            for task in tasks:\n",
    "                task.deadline = round(task.period, 2)\n",
    "                task.exec_time_lc = task.exec_time_hc[1]\n",
    "\n",
    "            last_deadline, last_preemption_level = 0, 0\n",
    "            for i, task in enumerate(tasks):\n",
    "                task.preemption_level = last_preemption_level \\\n",
    "                    if task.deadline == last_deadline \\\n",
    "                    else i + 1\n",
    "                last_deadline, last_preemption_level = task.deadline, task.preemption_level\n",
    "            core.tasks = tasks\n",
    "    else:\n",
    "        for core in cores:\n",
    "            tasks = sorted(\n",
    "                core.tasks,\n",
    "                key=lambda task: task.deadline, reverse=True\n",
    "            )\n",
    "            last_deadline, last_preemption_level = 0, 0\n",
    "            for i, task in enumerate(tasks):\n",
    "                task.preemption_level = last_preemption_level \\\n",
    "                    if task.deadline == last_deadline \\\n",
    "                    else i + 1\n",
    "                last_deadline, last_preemption_level = task.deadline, task.preemption_level\n",
    "            core.tasks = tasks\n",
    "    return cores"
   ]
  },
  {
   "cell_type": "markdown",
   "metadata": {
    "id": "lmnqMlGEYCTy"
   },
   "source": [
    "#### Generating Periodic Tasks\n",
    "The Uunifast function generates a set of utilizations for tasks using the UUnifast algorithm and the generate_tasks generates periodic tasks with specified utilization and different criticality levels."
   ]
  },
  {
   "cell_type": "code",
   "execution_count": 28,
   "metadata": {
    "ExecuteTime": {
     "end_time": "2024-06-27T15:38:02.275080Z",
     "start_time": "2024-06-27T15:38:02.267011Z"
    },
    "execution": {
     "iopub.execute_input": "2024-06-28T08:05:58.532732Z",
     "iopub.status.busy": "2024-06-28T08:05:58.532308Z",
     "iopub.status.idle": "2024-06-28T08:05:58.561225Z",
     "shell.execute_reply": "2024-06-28T08:05:58.559132Z",
     "shell.execute_reply.started": "2024-06-28T08:05:58.532691Z"
    },
    "id": "xPwmF60rYJLI"
   },
   "outputs": [],
   "source": [
    "def generate_tasks(\n",
    "        low_bound,\n",
    "        high_bound,\n",
    "        num_tasks,\n",
    "        total_util,\n",
    "        max_util,\n",
    "        criticality_levels,\n",
    "        resources,\n",
    "        resource_usage_rate,\n",
    "        scaling_factor=1\n",
    "):\n",
    "    \"\"\"\n",
    "    Generates a list of tasks with given utilization and criticality levels.\n",
    "\n",
    "    Args:\n",
    "        low_bound (float): low bound of periods\n",
    "        high_bound (float): high bound of periods\n",
    "        num_tasks (int): Number of tasks.\n",
    "        total_util (float): Total utilization for the tasks.\n",
    "        max_util (float): The upper bound of utilization of each task\n",
    "        criticality_levels (list of str): List of criticality levels to be assigned to tasks.\n",
    "        resources (list of Resource): List of all existed resources in the system\n",
    "        resource_usage_rate (float): ration of each resource time usage on execute time of task\n",
    "        scaling_factor (int): The scaling factor used to scale the utilizations.\n",
    "\n",
    "    Returns:\n",
    "        list of Task: Generated list of tasks.\n",
    "    \"\"\"\n",
    "    utilizations = uunifast(\n",
    "        num_tasks=num_tasks,\n",
    "        total_util=total_util,\n",
    "        max_util=max_util,\n",
    "        scaling_factor=scaling_factor\n",
    "    )\n",
    "    tasks = []\n",
    "    for i, u in enumerate(utilizations):\n",
    "        low_bound = round(low_bound, 2)\n",
    "        high_bound = round(high_bound, 2)\n",
    "        period = random.uniform(low_bound, high_bound)\n",
    "        exec_time_lc = u * period\n",
    "        criticality = random.choice(criticality_levels)\n",
    "        exec_time_hc = [exec_time_lc, exec_time_lc * random.uniform(1.1, 2)] \\\n",
    "            if criticality == 'HC' \\\n",
    "            else [exec_time_lc, exec_time_lc]\n",
    "\n",
    "        # Claim resources by task randomly\n",
    "        claimed_resources = {}\n",
    "        claimed_resources_num = 0\n",
    "        for resource in resources:\n",
    "            has_this_resource = random.choice([True, False])\n",
    "            if has_this_resource:\n",
    "                claimed_resources_num += 1\n",
    "                claimed_resources[resource.id] = 0\n",
    "\n",
    "        #     TODO: use pins (done)    \n",
    "        if claimed_resources_num:\n",
    "            shuffled_resource_ids = [resource_id for resource_id in claimed_resources.keys()][:]\n",
    "            random.shuffle(shuffled_resource_ids)\n",
    "            pin = int(exec_time_lc / claimed_resources_num)\n",
    "            start_of_critical_section = 0\n",
    "            for resource_id in shuffled_resource_ids:\n",
    "                critical_section_time = round(random.uniform(0, exec_time_lc * resource_usage_rate / claimed_resources_num), 2)\n",
    "                claimed_resources[resource_id] = (\n",
    "                    critical_section_time,\n",
    "                    start_of_critical_section\n",
    "                )\n",
    "                start_of_critical_section += pin\n",
    "\n",
    "        tasks.append(Task(\n",
    "            id=i + 1,\n",
    "            exec_time_lc=exec_time_lc,\n",
    "            exec_time_hc=exec_time_hc,\n",
    "            deadline=period,\n",
    "            period=period,\n",
    "            criticality=criticality,\n",
    "            utilization=u,\n",
    "            resources=claimed_resources\n",
    "        )\n",
    "        )\n",
    "    return tasks\n",
    "\n",
    "\n",
    "def uunifast(num_tasks, total_util, max_util, scaling_factor):\n",
    "    \"\"\"\n",
    "    Generates a list of utilizations for tasks using the UUnifast algorithm.\n",
    "\n",
    "    Args:\n",
    "        num_tasks (int): Number of tasks.\n",
    "        total_util (float): Total utilization to be distributed among the tasks.\n",
    "        max_util (float): max utilization to be assigned to a task (equal to utilization of a core).\n",
    "        scaling_factor (int): The scaling factor to be applied to the utilization.\n",
    "        \n",
    "    Returns:\n",
    "        list of float: List of utilizations for the tasks.\n",
    "    \"\"\"\n",
    "    utilizations = []\n",
    "    sum_util = total_util\n",
    "    for i in range(num_tasks):\n",
    "        next_util = 1\n",
    "        while next_util > max_util:\n",
    "            next_util = sum_util * (1 - random.random() ** (1 / (num_tasks - i)))\n",
    "        utilizations.append(round(next_util * scaling_factor, scaling_factor))\n",
    "        sum_util -= next_util\n",
    "    return utilizations"
   ]
  },
  {
   "cell_type": "markdown",
   "metadata": {
    "id": "rXL4t8JjYl4F"
   },
   "source": [
    "#### Calculating Resource Overload\n",
    "This function calculates the resource overload for a task on a core."
   ]
  },
  {
   "cell_type": "code",
   "execution_count": 13,
   "metadata": {
    "ExecuteTime": {
     "end_time": "2024-06-27T15:38:03.072016Z",
     "start_time": "2024-06-27T15:38:03.069734Z"
    },
    "execution": {
     "iopub.execute_input": "2024-06-28T07:56:04.892598Z",
     "iopub.status.busy": "2024-06-28T07:56:04.892061Z",
     "iopub.status.idle": "2024-06-28T07:56:04.905074Z",
     "shell.execute_reply": "2024-06-28T07:56:04.900112Z",
     "shell.execute_reply.started": "2024-06-28T07:56:04.892541Z"
    },
    "id": "-37re_CMYrGi"
   },
   "outputs": [],
   "source": [
    "def calculate_resource_overload(task, core):\n",
    "    \"\"\"\n",
    "    Calculates the resource overload for a given task on a core.\n",
    "\n",
    "    Args:\n",
    "        task (Task): The task for which to calculate resource overload.\n",
    "        core (Core): The core on which the resource overload is calculated.\n",
    "\n",
    "    Returns:\n",
    "        int: The calculated resource overload.\n",
    "    \"\"\"\n",
    "    overload = 0\n",
    "    for resource_id in task.resources.keys():\n",
    "        overload += core.resources_overload[resource_id]\n",
    "    return overload"
   ]
  },
  {
   "cell_type": "markdown",
   "metadata": {
    "id": "r5fOygEUYyvA"
   },
   "source": [
    "#### Assigning Tasks to Cores\n",
    "This function assigns tasks to cores based on resource overload and utilization.\n"
   ]
  },
  {
   "cell_type": "code",
   "execution_count": 14,
   "metadata": {
    "ExecuteTime": {
     "end_time": "2024-06-27T15:38:03.991053Z",
     "start_time": "2024-06-27T15:38:03.986975Z"
    },
    "execution": {
     "iopub.execute_input": "2024-06-28T07:56:04.908476Z",
     "iopub.status.busy": "2024-06-28T07:56:04.908114Z",
     "iopub.status.idle": "2024-06-28T07:56:04.919072Z",
     "shell.execute_reply": "2024-06-28T07:56:04.917802Z",
     "shell.execute_reply.started": "2024-06-28T07:56:04.908444Z"
    },
    "id": "CBgUanfPZp4X"
   },
   "outputs": [],
   "source": [
    "def heuristic_mapping(tasks, cores):\n",
    "    \"\"\"\n",
    "    Assigns tasks to cores based on resource overload and utilization.\n",
    "\n",
    "    Args:\n",
    "        tasks (list of Task): List of tasks to be assigned.\n",
    "        cores (list of Core): List of cores to which tasks are assigned.\n",
    "\n",
    "    Returns:\n",
    "        float: The ratio of successfully assigned tasks to the total number of tasks.\n",
    "    \"\"\"\n",
    "    assigned_tasks = 0\n",
    "    tasks = sorted(\n",
    "        tasks,\n",
    "        key=lambda task: sum(critical_section_time for (critical_section_time, _) in task.resources.values())\n",
    "    )\n",
    "    for task in tasks:\n",
    "        cores.sort(key=lambda core: (calculate_resource_overload(task, core), core.utilization))\n",
    "        for core in cores:\n",
    "            remaining_utilization = 1 - core.utilization\n",
    "            if remaining_utilization >= task.utilization:\n",
    "                core.add_task(task)\n",
    "                assigned_tasks += 1\n",
    "                break\n",
    "    return assigned_tasks / len(tasks)"
   ]
  },
  {
   "cell_type": "markdown",
   "metadata": {
    "id": "8sezwQ-7sbxa"
   },
   "source": [
    "### WFD Mapping\n",
    "Assigns tasks to cores using the Worst-Fit Decreasing (WFD) algorithm."
   ]
  },
  {
   "cell_type": "code",
   "execution_count": 15,
   "metadata": {
    "ExecuteTime": {
     "end_time": "2024-06-27T15:38:05.344747Z",
     "start_time": "2024-06-27T15:38:05.341498Z"
    },
    "execution": {
     "iopub.execute_input": "2024-06-28T07:56:04.921161Z",
     "iopub.status.busy": "2024-06-28T07:56:04.920642Z",
     "iopub.status.idle": "2024-06-28T07:56:04.930224Z",
     "shell.execute_reply": "2024-06-28T07:56:04.929008Z",
     "shell.execute_reply.started": "2024-06-28T07:56:04.921119Z"
    },
    "id": "GmJxyLNewg5t"
   },
   "outputs": [],
   "source": [
    "def wfd_mapping(tasks, cores):\n",
    "    \"\"\"\n",
    "    Assigns tasks to cores using the Worst-Fit Decreasing (WFD) algorithm.\n",
    "\n",
    "    Args:\n",
    "        tasks (list of Task): List of tasks to be assigned.\n",
    "        cores (list of Core): List of cores to which tasks are assigned.\n",
    "\n",
    "    Returns:\n",
    "        float: The ratio of successfully assigned tasks to the total number of tasks.\n",
    "    \"\"\"\n",
    "    assigned_tasks = 0\n",
    "    for task in tasks:\n",
    "        cores.sort(key=lambda core: core.utilization)  # Sort cores by current utilization in ascending order\n",
    "        for core in cores:\n",
    "            remaining_utilization = 1 - core.utilization\n",
    "            if remaining_utilization >= task.utilization:\n",
    "                core.add_task(task)\n",
    "                assigned_tasks += 1\n",
    "                break\n",
    "    return assigned_tasks / len(tasks)"
   ]
  },
  {
   "cell_type": "markdown",
   "metadata": {
    "id": "ymg8HQ2MaPTE"
   },
   "source": [
    "### **Part 2: Evaluating and Comparing Mapping Capability**"
   ]
  },
  {
   "cell_type": "markdown",
   "metadata": {
    "id": "rCk6s5b0aZvL"
   },
   "source": [
    "### Mapping Capability Evaluation Function\n",
    "This function evaluates the mapping capability of the heuristic and WFD algorithms.\n"
   ]
  },
  {
   "cell_type": "code",
   "execution_count": 16,
   "metadata": {
    "ExecuteTime": {
     "end_time": "2024-06-27T15:38:07.890992Z",
     "start_time": "2024-06-27T15:38:07.887181Z"
    },
    "execution": {
     "iopub.execute_input": "2024-06-28T07:56:04.933861Z",
     "iopub.status.busy": "2024-06-28T07:56:04.932776Z",
     "iopub.status.idle": "2024-06-28T07:56:04.945248Z",
     "shell.execute_reply": "2024-06-28T07:56:04.943885Z",
     "shell.execute_reply.started": "2024-06-28T07:56:04.933814Z"
    },
    "id": "4zqD-0ubaXF0"
   },
   "outputs": [],
   "source": [
    "def evaluate_mapping_capability(num_tasks, total_utils, criticality_levels, num_cores, resources, num_runs):\n",
    "    \"\"\"\n",
    "    Evaluates the mapping capability of the heuristic and WFD algorithms.\n",
    "\n",
    "    Args:\n",
    "        num_tasks (int): Number of tasks.\n",
    "        total_utils (list of float): List of total utilizations to be tested.\n",
    "        criticality_levels (list of str): List of criticality levels.\n",
    "        num_cores (int): Number of cores.\n",
    "        resources (list of Resource): List of resources in the system.\n",
    "        num_runs (int): Number of runs for each configuration.\n",
    "\n",
    "    Returns:\n",
    "        dict: Results of mapping capabilities for each utilization level.\n",
    "    \"\"\"\n",
    "    results = {util: [] for util in total_utils}\n",
    "\n",
    "    for util in total_utils:\n",
    "        for _ in range(num_runs):\n",
    "            tasks = generate_tasks(\n",
    "                low_bound=10.00,\n",
    "                high_bound=50.00,\n",
    "                num_tasks=num_tasks,\n",
    "                total_util=util * num_cores,\n",
    "                max_util=util,\n",
    "                criticality_levels=criticality_levels,\n",
    "                resources=resources,\n",
    "                resource_usage_rate=1,\n",
    "                scaling_factor=8\n",
    "            )\n",
    "\n",
    "            # Heuristic mapping algorithm\n",
    "            heuristic_cores = generate_cores(num_cores=num_cores, resources=resources)\n",
    "            heuristic_mapping_rate = heuristic_mapping(tasks=tasks, cores=heuristic_cores)\n",
    "\n",
    "            # WFD algorithm\n",
    "            wfd_cores = generate_cores(num_cores=num_cores, resources=resources)\n",
    "            wfd_mapping_rate = wfd_mapping(tasks=tasks, cores=wfd_cores)\n",
    "\n",
    "            results[util].append((heuristic_mapping_rate, wfd_mapping_rate))\n",
    "    return results"
   ]
  },
  {
   "cell_type": "markdown",
   "metadata": {
    "id": "Bw1Oq3wHa4K6"
   },
   "source": [
    "### **Part 3: Running Evaluations and Plotting Results**\n",
    "\n",
    "Evaluations for mapping capability is performed for each number of cores and different utilizations."
   ]
  },
  {
   "cell_type": "code",
   "execution_count": 127,
   "metadata": {
    "ExecuteTime": {
     "end_time": "2024-06-27T15:38:10.276017Z",
     "start_time": "2024-06-27T15:38:09.533225Z"
    },
    "execution": {
     "iopub.execute_input": "2024-06-27T19:58:19.579909Z",
     "iopub.status.busy": "2024-06-27T19:58:19.579535Z",
     "iopub.status.idle": "2024-06-27T19:58:21.164610Z",
     "shell.execute_reply": "2024-06-27T19:58:21.163363Z",
     "shell.execute_reply.started": "2024-06-27T19:58:19.579881Z"
    },
    "id": "EeY_4eMUbHJN"
   },
   "outputs": [
    {
     "data": {
      "image/png": "[encoded data removed]",
      "text/plain": [
       "<Figure size 640x480 with 1 Axes>"
      ]
     },
     "metadata": {},
     "output_type": "display_data"
    },
    {
     "data": {
      "image/png": "[encoded data removed]",
      "text/plain": [
       "<Figure size 640x480 with 1 Axes>"
      ]
     },
     "metadata": {},
     "output_type": "display_data"
    },
    {
     "data": {
      "image/png": "[encoded data removed]",
      "text/plain": [
       "<Figure size 640x480 with 1 Axes>"
      ]
     },
     "metadata": {},
     "output_type": "display_data"
    }
   ],
   "source": [
    "num_tasks = 400\n",
    "total_utils = [0.25, 0.5]\n",
    "criticality_levels = ['LC', 'HC']\n",
    "num_cores_list = [2, 4, 8]\n",
    "num_runs = 10\n",
    "\n",
    "# Evaluate mapping capability\n",
    "resources = generate_resources(low_bound=2, high_bound=6)\n",
    "mapping_results = {}\n",
    "\n",
    "for num_cores in num_cores_list:\n",
    "    mapping_results[num_cores] = evaluate_mapping_capability(\n",
    "        num_tasks=num_tasks,\n",
    "        total_utils=total_utils,\n",
    "        criticality_levels=criticality_levels,\n",
    "        num_cores=num_cores,\n",
    "        resources=resources,\n",
    "        num_runs=num_runs\n",
    "    )\n",
    "\n",
    "# Plot mapping capability results\n",
    "for num_cores, results in mapping_results.items():\n",
    "    plt.figure()\n",
    "    for util, data in results.items():\n",
    "        heuristic_mapping_rates = [d[0] for d in data]\n",
    "        wfd_mapping_rates = [d[1] for d in data]\n",
    "        plt.plot(heuristic_mapping_rates, label=f'Heuristic (Util={util})')\n",
    "        plt.plot(wfd_mapping_rates, label=f'WFD (Util={util})')\n",
    "    plt.xlabel('Run')\n",
    "    plt.ylabel('Mapping Capability')\n",
    "    plt.title(f'Mapping Capability Comparison with {num_cores} Cores')\n",
    "    plt.legend()\n",
    "    plt.show()"
   ]
  },
  {
   "cell_type": "markdown",
   "metadata": {
    "id": "-Ek-hGj1bSGa"
   },
   "source": [
    "### **Part 4: Implementing EDF-VD scheduling under MSRP Protocol**"
   ]
  },
  {
   "cell_type": "code",
   "execution_count": 17,
   "metadata": {
    "ExecuteTime": {
     "end_time": "2024-06-27T15:38:13.895387Z",
     "start_time": "2024-06-27T15:38:13.890881Z"
    },
    "execution": {
     "iopub.execute_input": "2024-06-28T07:56:08.466483Z",
     "iopub.status.busy": "2024-06-28T07:56:08.466070Z",
     "iopub.status.idle": "2024-06-28T07:56:08.480842Z",
     "shell.execute_reply": "2024-06-28T07:56:08.479636Z",
     "shell.execute_reply.started": "2024-06-28T07:56:08.466446Z"
    }
   },
   "outputs": [],
   "source": [
    "def schedule_tasks(cores, resources, is_overrun):\n",
    "    \"\"\"\n",
    "    Schedules tasks on cores for the specified duration using EDF-VD under MSRP protocol.\n",
    "\n",
    "    Args:\n",
    "        cores (list of Core): List of cores.\n",
    "        resources (list of Resource): List of resources.\n",
    "        is_overrun (bool): is overrun will occur or not\n",
    "    \"\"\"\n",
    "    for core in cores:\n",
    "        core.calculate_resource_ceiling(resources=resources)\n",
    "\n",
    "    tasks_periods = [task.period for core in cores for task in core.tasks]\n",
    "    tasks_periods = [int(period) for period in tasks_periods]\n",
    "    duration = hyper_period = np.lcm.reduce(tasks_periods)\n",
    "\n",
    "    switch_mode_point = None\n",
    "    if is_overrun:\n",
    "        switch_mode_point = round(random.choice([hyper_period / 4, hyper_period / 3, hyper_period / 2]), 2)\n",
    "\n",
    "    step = 0.01\n",
    "    for time in tqdm(np.arange(0, duration, step), desc=\"time progress\"):\n",
    "\n",
    "        # Handle overrun\n",
    "        if time == switch_mode_point:\n",
    "            for resource in resources:\n",
    "                if resource.task:\n",
    "                    if resource.task.criticality == 'LC':\n",
    "                        resource.release()\n",
    "            cores = set_preemption_levels(cores=cores, is_overrun=True)\n",
    "            for core in cores:\n",
    "                core.calculate_resource_ceiling(resources=resources)\n",
    "\n",
    "        for core in cores:\n",
    "            for task in core.tasks:\n",
    "                if round(time % task.period, 2) == 0:\n",
    "                    if task.remaining_time > 0:\n",
    "                        is_missed = True\n",
    "                        return is_missed\n",
    "                    else:\n",
    "                        task.remaining_time = task.exec_time_lc\n",
    "\n",
    "        # check for release all resources at the time\n",
    "        for core in cores:\n",
    "            resource = core.check_for_release()\n",
    "            if resource:\n",
    "                resource.release()\n",
    "                if core.is_on_busy_waiting:\n",
    "                    core.is_on_busy_waiting = False\n",
    "\n",
    "            task = core.next_task(resources=resources)\n",
    "            is_ok = core.schedule_task(task=task, time=time, step=step)\n",
    "            if not is_ok:\n",
    "                is_missed = True\n",
    "                return is_missed\n",
    "\n",
    "    return False"
   ]
  },
  {
   "cell_type": "markdown",
   "metadata": {},
   "source": [
    "### **Part 5: Evaluating Schedulability**"
   ]
  },
  {
   "cell_type": "markdown",
   "metadata": {},
   "source": [
    "### Schedulability Evaluation Function\n",
    "This function evaluates the schedulability of the the schedule_tasks function in both overrun and normal runs."
   ]
  },
  {
   "cell_type": "code",
   "execution_count": 4,
   "metadata": {
    "ExecuteTime": {
     "end_time": "2024-06-27T15:38:14.501488Z",
     "start_time": "2024-06-27T15:38:14.496129Z"
    }
   },
   "outputs": [],
   "source": [
    "def evaluate_schedulability(num_tasks, util, criticality_levels, num_cores, resources, num_runs):\n",
    "    \"\"\"\n",
    "    Evaluates the schedulability of the scheduler.\n",
    "\n",
    "    Args:\n",
    "        num_tasks (int): Number of tasks.\n",
    "        util (float): utilization to be tested.\n",
    "        criticality_levels (list of str): List of criticality levels.\n",
    "        num_cores (int): Number of cores.\n",
    "        resources (list of Resource): List of resources in the system.\n",
    "        num_runs (int): Number of runs for each configuration.\n",
    "\n",
    "    Returns:\n",
    "        dict: Results of schedulability for both overrun and normal mode runs.\n",
    "    \"\"\"\n",
    "    results = {\"overrun doesn't occurred\": [], \"overrun occurred\": []}\n",
    "    is_overrun = False\n",
    "    \n",
    "\n",
    "    for i in range(2):\n",
    "        if i == 1:\n",
    "            is_overrun = True\n",
    "        for _ in range(num_runs):\n",
    "            tasks = generate_tasks(\n",
    "                low_bound=1.00,\n",
    "                high_bound=5.00,\n",
    "                num_tasks=num_tasks,\n",
    "                total_util=util * num_cores,\n",
    "                max_util=util,\n",
    "                criticality_levels=criticality_levels,\n",
    "                resources=resources,\n",
    "                resource_usage_rate=0.25,\n",
    "                scaling_factor=1\n",
    "            )\n",
    "\n",
    "            cores = generate_cores(num_cores=num_cores, resources=resources)\n",
    "            # Set virtual deadlines\n",
    "            tasks = set_virtual_deadlines(tasks)\n",
    "            # Heuristic mapping algorithm    \n",
    "            heuristic_mapping_rate = heuristic_mapping(tasks=tasks, cores=cores)\n",
    "            # Set preemption levels\n",
    "            cores = set_preemption_levels(cores=cores)\n",
    "            # run scheduling algorithm\n",
    "            is_missed = schedule_tasks(cores=cores, resources=resources, is_overrun=is_overrun)\n",
    "            if is_overrun:\n",
    "                results[\"overrun occurred\"].append(is_missed)\n",
    "            else:\n",
    "                results[\"overrun doesn't occurred\"].append(is_missed)\n",
    "    return results"
   ]
  },
  {
   "cell_type": "markdown",
   "metadata": {},
   "source": [
    "### **Part 6: Running Evaluations and Plotting Results**\n",
    "\n",
    "Evaluations for schedulability is performed for each number of cores and run modes."
   ]
  },
  {
   "cell_type": "code",
   "execution_count": 60,
   "metadata": {
    "execution": {
     "iopub.execute_input": "2024-06-28T08:25:51.065855Z",
     "iopub.status.busy": "2024-06-28T08:25:51.065420Z",
     "iopub.status.idle": "2024-06-28T08:26:26.971554Z",
     "shell.execute_reply": "2024-06-28T08:26:26.970458Z",
     "shell.execute_reply.started": "2024-06-28T08:25:51.065821Z"
    }
   },
   "outputs": [
    {
     "name": "stderr",
     "output_type": "stream",
     "text": [
      "time progress: 100%|██████████| 1200/1200 [00:00<00:00, 2105.99it/s]\n",
      "time progress: 100%|██████████| 1200/1200 [00:00<00:00, 2139.09it/s]\n",
      "time progress: 100%|██████████| 1200/1200 [00:00<00:00, 2150.61it/s]\n",
      "time progress: 100%|██████████| 1200/1200 [00:00<00:00, 2128.04it/s]\n",
      "time progress: 100%|██████████| 1200/1200 [00:00<00:00, 2147.96it/s]\n",
      "time progress: 100%|██████████| 1200/1200 [00:00<00:00, 2100.43it/s]\n",
      "time progress: 100%|██████████| 1200/1200 [00:00<00:00, 2032.97it/s]\n",
      "time progress: 100%|██████████| 1200/1200 [00:00<00:00, 2115.83it/s]\n",
      "time progress: 100%|██████████| 1200/1200 [00:00<00:00, 2159.61it/s]\n",
      "time progress: 100%|██████████| 1200/1200 [00:00<00:00, 2144.73it/s]\n",
      "time progress: 100%|██████████| 1200/1200 [00:00<00:00, 3036.82it/s]\n",
      "time progress: 100%|██████████| 1200/1200 [00:00<00:00, 2728.58it/s]\n",
      "time progress: 100%|██████████| 1200/1200 [00:00<00:00, 3181.13it/s]\n",
      "time progress: 100%|██████████| 1200/1200 [00:00<00:00, 3075.31it/s]\n",
      "time progress: 100%|██████████| 1200/1200 [00:00<00:00, 3052.94it/s]\n",
      "time progress: 100%|██████████| 1200/1200 [00:00<00:00, 3312.47it/s]\n",
      "time progress: 100%|██████████| 1200/1200 [00:00<00:00, 3579.25it/s]\n",
      "time progress: 100%|██████████| 1200/1200 [00:00<00:00, 3307.67it/s]\n",
      "time progress: 100%|██████████| 1200/1200 [00:00<00:00, 3250.68it/s]\n",
      "time progress: 100%|██████████| 1200/1200 [00:00<00:00, 2621.04it/s]\n",
      "time progress: 100%|██████████| 1200/1200 [00:00<00:00, 1290.99it/s]\n",
      "time progress: 100%|██████████| 1200/1200 [00:00<00:00, 1288.66it/s]\n",
      "time progress:   0%|          | 0/1200 [00:00<?, ?it/s]\n",
      "time progress: 100%|██████████| 1200/1200 [00:01<00:00, 1188.04it/s]\n",
      "time progress:   0%|          | 0/1200 [00:00<?, ?it/s]\n",
      "time progress:   0%|          | 0/1200 [00:00<?, ?it/s]\n",
      "time progress: 100%|██████████| 1200/1200 [00:00<00:00, 1254.83it/s]\n",
      "time progress:   0%|          | 0/1200 [00:00<?, ?it/s]\n",
      "time progress: 100%|██████████| 1200/1200 [00:00<00:00, 1253.41it/s]\n",
      "time progress: 100%|██████████| 1200/1200 [00:00<00:00, 1264.57it/s]\n",
      "time progress:   0%|          | 0/1200 [00:00<?, ?it/s]\n",
      "time progress: 100%|██████████| 1200/1200 [00:00<00:00, 2006.42it/s]\n",
      "time progress: 100%|██████████| 1200/1200 [00:00<00:00, 2160.50it/s]\n",
      "time progress:   0%|          | 0/1200 [00:00<?, ?it/s]\n",
      "time progress: 100%|██████████| 1200/1200 [00:00<00:00, 1757.72it/s]\n",
      "time progress: 100%|██████████| 1200/1200 [00:00<00:00, 2345.84it/s]\n",
      "time progress:   0%|          | 0/1200 [00:00<?, ?it/s]\n",
      "time progress: 100%|██████████| 1200/1200 [00:00<00:00, 1723.72it/s]\n",
      "time progress:   0%|          | 0/1200 [00:00<?, ?it/s]\n",
      "time progress:   0%|          | 0/1200 [00:00<?, ?it/s]\n",
      "time progress:   0%|          | 0/1200 [00:00<?, ?it/s]\n",
      "time progress:   0%|          | 0/1200 [00:00<?, ?it/s]\n",
      "time progress:   0%|          | 0/1200 [00:00<?, ?it/s]\n",
      "time progress:   0%|          | 0/1200 [00:00<?, ?it/s]\n",
      "time progress:   0%|          | 0/1200 [00:00<?, ?it/s]\n",
      "time progress:   0%|          | 0/1200 [00:00<?, ?it/s]\n",
      "time progress:   0%|          | 0/1200 [00:00<?, ?it/s]\n",
      "time progress:   0%|          | 0/1200 [00:00<?, ?it/s]\n",
      "time progress:   0%|          | 0/1200 [00:00<?, ?it/s]\n",
      "time progress:   0%|          | 0/1200 [00:00<?, ?it/s]\n",
      "time progress:   0%|          | 0/1200 [00:00<?, ?it/s]\n",
      "time progress:   0%|          | 0/1200 [00:00<?, ?it/s]\n",
      "time progress:   0%|          | 0/1200 [00:00<?, ?it/s]\n",
      "time progress:   0%|          | 0/1200 [00:00<?, ?it/s]\n",
      "time progress:   0%|          | 0/1200 [00:00<?, ?it/s]\n",
      "time progress:   0%|          | 0/1200 [00:00<?, ?it/s]\n",
      "time progress:   0%|          | 0/1200 [00:00<?, ?it/s]\n",
      "time progress:   0%|          | 0/1200 [00:00<?, ?it/s]\n",
      "time progress:   0%|          | 0/1200 [00:00<?, ?it/s]\n",
      "time progress:   0%|          | 0/1200 [00:00<?, ?it/s]\n",
      "time progress: 100%|██████████| 1200/1200 [00:00<00:00, 2138.09it/s]\n",
      "time progress: 100%|██████████| 1200/1200 [00:00<00:00, 2135.51it/s]\n",
      "time progress: 100%|██████████| 1200/1200 [00:00<00:00, 2144.14it/s]\n",
      "time progress: 100%|██████████| 1200/1200 [00:00<00:00, 2158.94it/s]\n",
      "time progress: 100%|██████████| 1200/1200 [00:00<00:00, 2134.99it/s]\n",
      "time progress: 100%|██████████| 1200/1200 [00:00<00:00, 2128.11it/s]\n",
      "time progress: 100%|██████████| 1200/1200 [00:00<00:00, 2138.58it/s]\n",
      "time progress: 100%|██████████| 1200/1200 [00:00<00:00, 2120.76it/s]\n",
      "time progress:   0%|          | 0/1200 [00:00<?, ?it/s]\n",
      "time progress:   0%|          | 0/1200 [00:00<?, ?it/s]\n",
      "time progress:   0%|          | 0/1200 [00:00<?, ?it/s]\n",
      "time progress: 100%|██████████| 1200/1200 [00:00<00:00, 2570.18it/s]\n",
      "time progress: 100%|██████████| 1200/1200 [00:00<00:00, 2902.55it/s]\n",
      "time progress: 100%|██████████| 1200/1200 [00:00<00:00, 2677.25it/s]\n",
      "time progress: 100%|██████████| 1200/1200 [00:00<00:00, 3336.00it/s]\n",
      "time progress: 100%|██████████| 1200/1200 [00:00<00:00, 3038.84it/s]\n",
      "time progress: 100%|██████████| 1200/1200 [00:00<00:00, 3253.43it/s]\n",
      "time progress: 100%|██████████| 1200/1200 [00:00<00:00, 3338.86it/s]\n",
      "time progress: 100%|██████████| 1200/1200 [00:00<00:00, 3142.19it/s]\n",
      "time progress: 100%|██████████| 1200/1200 [00:00<00:00, 3247.98it/s]\n",
      "time progress: 100%|██████████| 1200/1200 [00:00<00:00, 1281.40it/s]\n",
      "time progress: 100%|██████████| 1200/1200 [00:00<00:00, 1285.33it/s]\n",
      "time progress:   0%|          | 0/1200 [00:00<?, ?it/s]\n",
      "time progress:   0%|          | 0/1200 [00:00<?, ?it/s]\n",
      "time progress: 100%|██████████| 1200/1200 [00:00<00:00, 1286.91it/s]\n",
      "time progress:   0%|          | 0/1200 [00:00<?, ?it/s]\n",
      "time progress:   0%|          | 0/1200 [00:00<?, ?it/s]\n",
      "time progress: 100%|██████████| 1200/1200 [00:00<00:00, 1292.50it/s]\n",
      "time progress: 100%|██████████| 1200/1200 [00:00<00:00, 1274.68it/s]\n",
      "time progress:   0%|          | 0/1200 [00:00<?, ?it/s]\n",
      "time progress:   0%|          | 0/1200 [00:00<?, ?it/s]\n",
      "time progress: 100%|██████████| 1200/1200 [00:00<00:00, 1878.76it/s]\n",
      "time progress: 100%|██████████| 1200/1200 [00:00<00:00, 1693.44it/s]\n",
      "time progress:   0%|          | 0/1200 [00:00<?, ?it/s]\n",
      "time progress: 100%|██████████| 1200/1200 [00:00<00:00, 1666.13it/s]\n",
      "time progress:   0%|          | 0/1200 [00:00<?, ?it/s]\n",
      "time progress:   0%|          | 0/1200 [00:00<?, ?it/s]\n",
      "time progress: 100%|██████████| 1200/1200 [00:00<00:00, 1877.11it/s]\n",
      "time progress: 100%|██████████| 1200/1200 [00:00<00:00, 1742.25it/s]\n",
      "time progress:   0%|          | 0/1200 [00:00<?, ?it/s]\n",
      "time progress:   0%|          | 0/1200 [00:00<?, ?it/s]\n",
      "time progress:   0%|          | 0/1200 [00:00<?, ?it/s]\n",
      "time progress:   0%|          | 0/1200 [00:00<?, ?it/s]\n",
      "time progress:   0%|          | 0/1200 [00:00<?, ?it/s]\n",
      "time progress:   0%|          | 0/1200 [00:00<?, ?it/s]\n",
      "time progress:   0%|          | 0/1200 [00:00<?, ?it/s]\n",
      "time progress:   0%|          | 0/1200 [00:00<?, ?it/s]\n",
      "time progress:   0%|          | 0/1200 [00:00<?, ?it/s]\n",
      "time progress:   0%|          | 0/1200 [00:00<?, ?it/s]\n",
      "time progress:   0%|          | 0/1200 [00:00<?, ?it/s]\n",
      "time progress:   0%|          | 0/1200 [00:00<?, ?it/s]\n",
      "time progress:   0%|          | 0/1200 [00:00<?, ?it/s]\n",
      "time progress:   0%|          | 0/1200 [00:00<?, ?it/s]\n",
      "time progress:   0%|          | 0/1200 [00:00<?, ?it/s]\n",
      "time progress:   0%|          | 0/1200 [00:00<?, ?it/s]\n",
      "time progress:   0%|          | 0/1200 [00:00<?, ?it/s]\n",
      "time progress:   0%|          | 0/1200 [00:00<?, ?it/s]\n",
      "time progress:   0%|          | 0/1200 [00:00<?, ?it/s]\n",
      "time progress:   0%|          | 0/1200 [00:00<?, ?it/s]\n",
      "time progress:   0%|          | 0/1200 [00:00<?, ?it/s]\n"
     ]
    },
    {
     "data": {
      "image/png": "[encoded data removed]",
      "text/plain": [
       "<Figure size 1200x1200 with 2 Axes>"
      ]
     },
     "metadata": {},
     "output_type": "display_data"
    }
   ],
   "source": [
    "num_tasks = 100\n",
    "util = 0.25\n",
    "criticality_levels = ['LC', 'HC']\n",
    "num_cores_list = [2, 4, 8]\n",
    "num_runs = 10\n",
    "\n",
    "resources = generate_resources(low_bound=2, high_bound=6)\n",
    "\n",
    "schedulability_results = {\"overrun doesn't occurred\": {}, \"overrun occurred\": {}}\n",
    "\n",
    "for state in [\"overrun doesn't occurred\", \"overrun occurred\"]:\n",
    "    for num_cores in num_cores_list:\n",
    "        schedulability_results[state][num_cores] = evaluate_schedulability(\n",
    "            num_tasks=num_tasks,\n",
    "            util=util,\n",
    "            criticality_levels=criticality_levels,\n",
    "            num_cores=num_cores,\n",
    "            resources=resources,\n",
    "            num_runs=num_runs\n",
    "        )[state]\n",
    "\n",
    "# Plot schedulability results\n",
    "fig, axs = plt.subplots(2, 1, figsize=(12, 12))\n",
    "\n",
    "for idx, (state, results) in enumerate(schedulability_results.items()):\n",
    "    x = num_cores_list\n",
    "    y = [sum(results[cores]) / len(results[cores]) for cores in num_cores_list]\n",
    "    axs[idx].bar(x, y)\n",
    "    axs[idx].set_title(f'Schedulability Results - {state}')\n",
    "    axs[idx].set_xlabel('Number of Cores')\n",
    "    axs[idx].set_ylabel('Success Rate')\n",
    "    axs[idx].set_xticks(num_cores_list)\n",
    "\n",
    "plt.tight_layout()\n",
    "plt.show()"
   ]
  },
  {
   "cell_type": "markdown",
   "metadata": {
    "id": "MZj8fFjVbija"
   },
   "source": [
    "### **Part 7: Conclusion**\n",
    "\n",
    "**In this project, in the first phase, task mapping algorithms in a two-level mixed-criticality system were implemented and evaluated. The evaluation results were presented as mapping capability charts, showing the performance of the proposed algorithm compared to the WFD algorithm. The result was amazing.**\n",
    "- ***The more cores, higher capability!***\n",
    "- ***The higher the core utilization, the lower the capacity***\n",
    "- ***Our heuristic mapping works better than wfd in the number of cores, by a greater margin, because the measure of resource congestion on the core is more meaningful, and naturally, as the effectiveness of this term increases, our heuristic mapping will be better than wfd.***\n",
    "\n",
    "**At the second phase, task scheduling was tested by many different parameters and finally the results were interesting.**\n",
    "- ***The more core, higher schedulability!*** \n",
    "- ***In overrun mode, tasks are often scheduled without missing their deadlinesو but in normal mode, the probability of missing the deadline is higher.***"
   ]
  }
 ],
 "metadata": {
  "colab": {
   "provenance": []
  },
  "kaggle": {
   "accelerator": "none",
   "dataSources": [],
   "dockerImageVersionId": 30732,
   "isGpuEnabled": false,
   "isInternetEnabled": false,
   "language": "python",
   "sourceType": "notebook"
  },
  "kernelspec": {
   "display_name": "Python 3 (ipykernel)",
   "language": "python",
   "name": "python3"
  },
  "language_info": {
   "codemirror_mode": {
    "name": "ipython",
    "version": 3
   },
   "file_extension": ".py",
   "mimetype": "text/x-python",
   "name": "python",
   "nbconvert_exporter": "python",
   "pygments_lexer": "ipython3",
   "version": "3.12.3"
  }
 },
 "nbformat": 4,
 "nbformat_minor": 4
}
